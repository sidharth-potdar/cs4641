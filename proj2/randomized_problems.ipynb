{
 "cells": [
  {
   "cell_type": "code",
   "execution_count": 236,
   "metadata": {},
   "outputs": [],
   "source": [
    "import mlrose\n",
    "import numpy as np\n",
    "import matplotlib.pyplot as plt\n",
    "import random\n",
    "import itertools"
   ]
  },
  {
   "cell_type": "code",
   "execution_count": 2,
   "metadata": {},
   "outputs": [],
   "source": [
    "# Define alternative N-Queens fitness function for maximization problem\n",
    "def queens_max(state):\n",
    "    \n",
    "    # Initialize counter\n",
    "    fitness = 0\n",
    "    \n",
    "    # For all pairs of queens\n",
    "    for i in range(len(state) - 1):\n",
    "        for j in range(i + 1, len(state)):\n",
    "            \n",
    "            # Check for horizontal, diagonal-up and diagonal-down attacks\n",
    "            if (state[j] != state[i]) \\\n",
    "                and (state[j] != state[i] + (j - i)) \\\n",
    "                and (state[j] != state[i] - (j - i)):\n",
    "                \n",
    "                # If no attacks, then increment counter\n",
    "                fitness += 1\n",
    "\n",
    "    return fitness"
   ]
  },
  {
   "cell_type": "code",
   "execution_count": 3,
   "metadata": {},
   "outputs": [
    {
     "data": {
      "text/plain": [
       "22"
      ]
     },
     "execution_count": 3,
     "metadata": {},
     "output_type": "execute_result"
    }
   ],
   "source": [
    "# Check function is working correctly\n",
    "state = np.array([1, 4, 1, 3, 5, 5, 2, 7])\n",
    "\n",
    "# The fitness of this state should be 22\n",
    "queens_max(state)"
   ]
  },
  {
   "cell_type": "code",
   "execution_count": 125,
   "metadata": {},
   "outputs": [],
   "source": [
    "# Initialize custom fitness function object\n",
    "fitness_cust = mlrose.CustomFitness(queens_max)\n",
    "\n",
    "# Define optimization problem object\n",
    "problem_cust = mlrose.DiscreteOpt(length = 8, fitness_fn = fitness_cust, maximize = True, max_val = 8)"
   ]
  },
  {
   "cell_type": "code",
   "execution_count": 126,
   "metadata": {},
   "outputs": [
    {
     "name": "stdout",
     "output_type": "stream",
     "text": [
      "[6 4 7 3 6 2 5 1]\n",
      "26.0\n"
     ]
    }
   ],
   "source": [
    "# Solve using simulated annealing - attempt 1\n",
    "np.random.seed(1)\n",
    "init_state = np.array([0, 1, 2, 3, 4, 5, 6, 7])\n",
    "\n",
    "best_state, best_fitness = mlrose.simulated_annealing(problem_cust, schedule = mlrose.ExpDecay(), \n",
    "                                                      max_attempts = 10, max_iters = 1000, \n",
    "                                                      init_state = init_state)\n",
    "print(best_state)\n",
    "print(best_fitness)"
   ]
  },
  {
   "cell_type": "code",
   "execution_count": 193,
   "metadata": {},
   "outputs": [],
   "source": [
    "def random_hill_climb(problem, max_attempts=10, max_iters=np.inf, restarts=0,\n",
    "                      init_state=None, curve=False, random_state=None):\n",
    "\n",
    "    if (not isinstance(max_attempts, int) and not max_attempts.is_integer()) \\\n",
    "       or (max_attempts < 0):\n",
    "        raise Exception(\"\"\"max_attempts must be a positive integer.\"\"\")\n",
    "\n",
    "    if (not isinstance(max_iters, int) and max_iters != np.inf\n",
    "            and not max_iters.is_integer()) or (max_iters < 0):\n",
    "        raise Exception(\"\"\"max_iters must be a positive integer.\"\"\")\n",
    "\n",
    "    if (not isinstance(restarts, int) and not restarts.is_integer()) \\\n",
    "       or (restarts < 0):\n",
    "        raise Exception(\"\"\"restarts must be a positive integer.\"\"\")\n",
    "\n",
    "    if init_state is not None and len(init_state) != problem.get_length():\n",
    "        raise Exception(\"\"\"init_state must have same length as problem.\"\"\")\n",
    "\n",
    "    best_fitness = -1*np.inf\n",
    "    best_state = None\n",
    "\n",
    "    best_iteration_data = []\n",
    "    \n",
    "    for _ in range(restarts + 1):\n",
    "        # Initialize optimization problem and attempts counter\n",
    "        if init_state is None:\n",
    "            problem.reset()\n",
    "        else:\n",
    "            problem.set_state(init_state)\n",
    "\n",
    "        attempts = 0\n",
    "        iters = 0\n",
    "\n",
    "        iteration_data = []\n",
    "        while (attempts < max_attempts) and (iters < max_iters):\n",
    "            iters += 1\n",
    "\n",
    "            # Find random neighbor and evaluate fitness\n",
    "            next_state = problem.random_neighbor()\n",
    "            next_fitness = problem.eval_fitness(next_state)\n",
    "\n",
    "            # If best neighbor is an improvement,\n",
    "            # move to that state and reset attempts counter\n",
    "            if next_fitness > problem.get_fitness():\n",
    "                problem.set_state(next_state)\n",
    "                attempts = 0\n",
    "\n",
    "            else:\n",
    "                attempts += 1\n",
    "            \n",
    "            iteration_data.append((iters, problem.get_fitness()))\n",
    "            \n",
    "        # Update best state and best fitness\n",
    "        if problem.get_fitness() > best_fitness:\n",
    "            best_fitness = problem.get_fitness()\n",
    "            best_state = problem.get_state()\n",
    "            \n",
    "            best_iteration_data = iteration_data\n",
    "\n",
    "    best_fitness = problem.get_maximize()*best_fitness\n",
    "    return best_state, best_fitness, best_iteration_data"
   ]
  },
  {
   "cell_type": "code",
   "execution_count": 194,
   "metadata": {},
   "outputs": [],
   "source": [
    "def simulated_annealing(problem, schedule=mlrose.GeomDecay(), max_attempts=10,\n",
    "                        max_iters=np.inf, init_state=None):\n",
    "\n",
    "    if (not isinstance(max_attempts, int) and not max_attempts.is_integer()) \\\n",
    "       or (max_attempts < 0):\n",
    "        raise Exception(\"\"\"max_attempts must be a positive integer.\"\"\")\n",
    "\n",
    "    if (not isinstance(max_iters, int) and max_iters != np.inf\n",
    "            and not max_iters.is_integer()) or (max_iters < 0):\n",
    "        raise Exception(\"\"\"max_iters must be a positive integer.\"\"\")\n",
    "\n",
    "    if init_state is not None and len(init_state) != problem.get_length():\n",
    "        raise Exception(\"\"\"init_state must have same length as problem.\"\"\")\n",
    "\n",
    "    # Initialize problem, time and attempts counter\n",
    "    if init_state is None:\n",
    "        problem.reset()\n",
    "    else:\n",
    "        problem.set_state(init_state)\n",
    "\n",
    "    attempts = 0\n",
    "    iters = 0\n",
    "    \n",
    "    iteration_data = []\n",
    "    while (attempts < max_attempts) and (iters < max_iters):\n",
    "        temp = schedule.evaluate(iters)\n",
    "        iters += 1\n",
    "\n",
    "        if temp == 0:\n",
    "            break\n",
    "\n",
    "        else:\n",
    "            # Find random neighbor and evaluate fitness\n",
    "            next_state = problem.random_neighbor()\n",
    "            next_fitness = problem.eval_fitness(next_state)\n",
    "\n",
    "            # Calculate delta E and change prob\n",
    "            delta_e = next_fitness - problem.get_fitness()\n",
    "            prob = np.exp(delta_e/temp)\n",
    "\n",
    "            # If best neighbor is an improvement or random value is less\n",
    "            # than prob, move to that state and reset attempts counter\n",
    "            if (delta_e > 0) or (np.random.uniform() < prob):\n",
    "                problem.set_state(next_state)\n",
    "                attempts = 0\n",
    "\n",
    "            else:\n",
    "                attempts += 1\n",
    "        iteration_data.append((iters, problem.get_fitness()))\n",
    "        \n",
    "    best_fitness = problem.get_maximize()*problem.get_fitness()\n",
    "    best_state = problem.get_state()\n",
    "\n",
    "    return best_state, best_fitness, iteration_data"
   ]
  },
  {
   "cell_type": "code",
   "execution_count": 195,
   "metadata": {},
   "outputs": [],
   "source": [
    "def genetic_alg(problem, pop_size=200, mutation_prob=0.1, max_attempts=10,\n",
    "                max_iters=np.inf):\n",
    "\n",
    "    if pop_size < 0:\n",
    "        raise Exception(\"\"\"pop_size must be a positive integer.\"\"\")\n",
    "    elif not isinstance(pop_size, int):\n",
    "        if pop_size.is_integer():\n",
    "            pop_size = int(pop_size)\n",
    "        else:\n",
    "            raise Exception(\"\"\"pop_size must be a positive integer.\"\"\")\n",
    "\n",
    "    if (mutation_prob < 0) or (mutation_prob > 1):\n",
    "        raise Exception(\"\"\"mutation_prob must be between 0 and 1.\"\"\")\n",
    "\n",
    "    if (not isinstance(max_attempts, int) and not max_attempts.is_integer()) \\\n",
    "       or (max_attempts < 0):\n",
    "        raise Exception(\"\"\"max_attempts must be a positive integer.\"\"\")\n",
    "\n",
    "    if (not isinstance(max_iters, int) and max_iters != np.inf\n",
    "            and not max_iters.is_integer()) or (max_iters < 0):\n",
    "        raise Exception(\"\"\"max_iters must be a positive integer.\"\"\")\n",
    "\n",
    "    # Initialize problem, population and attempts counter\n",
    "    problem.reset()\n",
    "    problem.random_pop(pop_size)\n",
    "    attempts = 0\n",
    "    iters = 0\n",
    "\n",
    "    iteration_data = []\n",
    "    while (attempts < max_attempts) and (iters < max_iters):\n",
    "        iters += 1\n",
    "\n",
    "        # Calculate breeding probabilities\n",
    "        problem.eval_mate_probs()\n",
    "\n",
    "        # Create next generation of population\n",
    "        next_gen = []\n",
    "\n",
    "        for _ in range(pop_size):\n",
    "            # Select parents\n",
    "            selected = np.random.choice(pop_size, size=2,\n",
    "                                        p=problem.get_mate_probs())\n",
    "            parent_1 = problem.get_population()[selected[0]]\n",
    "            parent_2 = problem.get_population()[selected[1]]\n",
    "\n",
    "            # Create offspring\n",
    "            child = problem.reproduce(parent_1, parent_2, mutation_prob)\n",
    "            next_gen.append(child)\n",
    "\n",
    "        next_gen = np.array(next_gen)\n",
    "        problem.set_population(next_gen)\n",
    "\n",
    "        next_state = problem.best_child()\n",
    "        next_fitness = problem.eval_fitness(next_state)\n",
    "\n",
    "        # If best child is an improvement,\n",
    "        # move to that state and reset attempts counter\n",
    "        if next_fitness > problem.get_fitness():\n",
    "            problem.set_state(next_state)\n",
    "            attempts = 0\n",
    "\n",
    "        else:\n",
    "            attempts += 1\n",
    "            \n",
    "        iteration_data.append((iters, problem.get_fitness()))\n",
    "\n",
    "    best_fitness = problem.get_maximize()*problem.get_fitness()\n",
    "    best_state = problem.get_state()\n",
    "\n",
    "    return best_state, best_fitness, iteration_data"
   ]
  },
  {
   "cell_type": "code",
   "execution_count": 196,
   "metadata": {},
   "outputs": [],
   "source": [
    "def mimic(problem, pop_size=200, keep_pct=0.2, max_attempts=10,\n",
    "          max_iters=np.inf):\n",
    "\n",
    "    if problem.get_prob_type() == 'continuous':\n",
    "        raise Exception(\"\"\"problem type must be discrete or tsp.\"\"\")\n",
    "\n",
    "    if pop_size < 0:\n",
    "        raise Exception(\"\"\"pop_size must be a positive integer.\"\"\")\n",
    "    elif not isinstance(pop_size, int):\n",
    "        if pop_size.is_integer():\n",
    "            pop_size = int(pop_size)\n",
    "        else:\n",
    "            raise Exception(\"\"\"pop_size must be a positive integer.\"\"\")\n",
    "\n",
    "    if (keep_pct < 0) or (keep_pct > 1):\n",
    "        raise Exception(\"\"\"keep_pct must be between 0 and 1.\"\"\")\n",
    "\n",
    "    if (not isinstance(max_attempts, int) and not max_attempts.is_integer()) \\\n",
    "       or (max_attempts < 0):\n",
    "        raise Exception(\"\"\"max_attempts must be a positive integer.\"\"\")\n",
    "\n",
    "    if (not isinstance(max_iters, int) and max_iters != np.inf\n",
    "            and not max_iters.is_integer()) or (max_iters < 0):\n",
    "        raise Exception(\"\"\"max_iters must be a positive integer.\"\"\")\n",
    "\n",
    "    # Initialize problem, population and attempts counter\n",
    "    problem.reset()\n",
    "    problem.random_pop(pop_size)\n",
    "    attempts = 0\n",
    "    iters = 0\n",
    "\n",
    "    iteration_data = []\n",
    "    while (attempts < max_attempts) and (iters < max_iters):\n",
    "        iters += 1\n",
    "\n",
    "        # Get top n percent of population\n",
    "        problem.find_top_pct(keep_pct)\n",
    "\n",
    "        # Update probability estimates\n",
    "        problem.eval_node_probs()\n",
    "\n",
    "        # Generate new sample\n",
    "        new_sample = problem.sample_pop(pop_size)\n",
    "        problem.set_population(new_sample)\n",
    "\n",
    "        next_state = problem.best_child()\n",
    "\n",
    "        next_fitness = problem.eval_fitness(next_state)\n",
    "\n",
    "        # If best child is an improvement,\n",
    "        # move to that state and reset attempts counter\n",
    "        if next_fitness > problem.get_fitness():\n",
    "            problem.set_state(next_state)\n",
    "            attempts = 0\n",
    "\n",
    "        else:\n",
    "            attempts += 1\n",
    "            \n",
    "        iteration_data.append((iters, problem.get_fitness()))\n",
    "\n",
    "    best_fitness = problem.get_maximize()*problem.get_fitness()\n",
    "    best_state = problem.get_state().astype(int)\n",
    "\n",
    "    return best_state, best_fitness, iteration_data"
   ]
  },
  {
   "cell_type": "code",
   "execution_count": 239,
   "metadata": {},
   "outputs": [],
   "source": [
    "def optimize_rhc(problem):\n",
    "    parameters = {\n",
    "                    'restarts': [5, 10, 25, 50]\n",
    "                 }\n",
    "    best_score = 0\n",
    "    best_params = None\n",
    "\n",
    "    keys, values = zip(*parameters.items())\n",
    "    for v in itertools.product(*values):\n",
    "        e = dict(zip(keys, v))\n",
    "        best_state_rhc, best_fitness_rhc, fitness_curve_rhc = random_hill_climb(problem, max_attempts=100,\n",
    "                                                                max_iters=250,\n",
    "                                                               restarts=e['restarts'])\n",
    "        \n",
    "        if best_fitness_rhc > best_score:\n",
    "            best_score = best_fitness_rhc\n",
    "            best_params = e\n",
    "            \n",
    "    return best_score, best_params\n",
    "\n",
    "def optimize_sa(problem):\n",
    "    parameters = {\n",
    "                    'schedule': [mlrose.GeomDecay(), mlrose.ArithDecay(), mlrose.ExpDecay()]\n",
    "                 }\n",
    "    best_score = 0\n",
    "    best_params = None\n",
    "\n",
    "    keys, values = zip(*parameters.items())\n",
    "    for v in itertools.product(*values):\n",
    "        e = dict(zip(keys, v))\n",
    "        best_state_sa, best_fitness_sa, fitness_curve_sa = simulated_annealing(problem, max_attempts=10,\n",
    "                                                                max_iters=250,\n",
    "                                                               schedule = e['schedule'])\n",
    "        \n",
    "        if best_fitness_sa > best_score:\n",
    "            best_score = best_fitness_sa\n",
    "            best_params = e\n",
    "\n",
    "    return best_score, best_params\n",
    "\n",
    "def optimize_ga(problem):\n",
    "    parameters = {\n",
    "                    'pop_size': [25, 50, 100, 150, 250],\n",
    "                    'mutation_prob': [0.01, 0.1, 0.25]\n",
    "                 }\n",
    "    best_score = 0\n",
    "    best_params = None\n",
    "\n",
    "    keys, values = zip(*parameters.items())\n",
    "    for v in itertools.product(*values):\n",
    "        e = dict(zip(keys, v))\n",
    "        best_state_ga, best_fitness_ga, fitness_curve_ga = genetic_alg(problem, max_attempts=10,\n",
    "                                                                max_iters=250,\n",
    "                                                               pop_size=e['pop_size'], mutation_prob=e['mutation_prob'])\n",
    "        \n",
    "        if best_fitness_ga > best_score:\n",
    "            best_score = best_fitness_ga\n",
    "            best_params = e\n",
    "\n",
    "    return best_score, best_params\n",
    "\n",
    "def optimize_mimic(problem):\n",
    "    parameters = {\n",
    "                    'pop_size': [25, 50, 100, 150, 250],\n",
    "                    'keep_pct': [0.01, 0.1, 0.25, 0.5]\n",
    "                 }\n",
    "    best_score = 0\n",
    "    best_params = None\n",
    "\n",
    "    keys, values = zip(*parameters.items())\n",
    "    for v in itertools.product(*values):\n",
    "        e = dict(zip(keys, v))\n",
    "        best_state_mi, best_fitness_mi, fitness_curve_mi = mimic(nqueens, max_attempts=10,\n",
    "                                                                max_iters=250,\n",
    "                                                                pop_size=e['pop_size'],\n",
    "                                                                keep_pct=e['keep_pct'])\n",
    "        \n",
    "        if best_fitness_mi > best_score:\n",
    "            best_score = best_fitness_mi\n",
    "            best_params = e\n",
    "\n",
    "    return best_score, best_params\n"
   ]
  },
  {
   "cell_type": "code",
   "execution_count": 240,
   "metadata": {},
   "outputs": [
    {
     "name": "stdout",
     "output_type": "stream",
     "text": [
      "N-Queens\n",
      "RHC:  (3582.0, {'restarts': 50})\n",
      "SA:  (3565.0, {'schedule': <mlrose.decay.ExpDecay object at 0x12b2e2588>})\n",
      "GA:  (3557.0, {'pop_size': 100, 'mutation_prob': 0.25})\n",
      "MIMIC:  (3580.0, {'pop_size': 250, 'keep_pct': 0.25})\n"
     ]
    }
   ],
   "source": [
    "# Nqueens\n",
    "fitness_cust = mlrose.CustomFitness(queens_max)\n",
    "nqueens = mlrose.DiscreteOpt(length = 120, fitness_fn = fitness_cust, maximize = True, max_val = 2)\n",
    "\n",
    "print('N-Queens')\n",
    "print('RHC: ', optimize_rhc(nqueens))\n",
    "print('SA: ', optimize_sa(nqueens))\n",
    "print('GA: ', optimize_ga(nqueens))\n",
    "print('MIMIC: ', optimize_mimic(nqueens))"
   ]
  },
  {
   "cell_type": "code",
   "execution_count": 244,
   "metadata": {},
   "outputs": [
    {
     "name": "stdout",
     "output_type": "stream",
     "text": [
      "N-Queens\n",
      "RHC:  (166.0, {'restarts': 50})\n",
      "SA:  (158.0, {'schedule': <mlrose.decay.GeomDecay object at 0x12a649eb8>})\n",
      "GA:  (131.0, {'pop_size': 250, 'mutation_prob': 0.01})\n"
     ]
    },
    {
     "ename": "KeyboardInterrupt",
     "evalue": "",
     "output_type": "error",
     "traceback": [
      "\u001b[0;31m---------------------------------------------------------------------------\u001b[0m",
      "\u001b[0;31mKeyboardInterrupt\u001b[0m                         Traceback (most recent call last)",
      "\u001b[0;32m<ipython-input-244-59f5f2742440>\u001b[0m in \u001b[0;36m<module>\u001b[0;34m\u001b[0m\n\u001b[1;32m      7\u001b[0m \u001b[0mprint\u001b[0m\u001b[0;34m(\u001b[0m\u001b[0;34m'SA: '\u001b[0m\u001b[0;34m,\u001b[0m \u001b[0moptimize_sa\u001b[0m\u001b[0;34m(\u001b[0m\u001b[0mflip_flop\u001b[0m\u001b[0;34m)\u001b[0m\u001b[0;34m)\u001b[0m\u001b[0;34m\u001b[0m\u001b[0;34m\u001b[0m\u001b[0m\n\u001b[1;32m      8\u001b[0m \u001b[0mprint\u001b[0m\u001b[0;34m(\u001b[0m\u001b[0;34m'GA: '\u001b[0m\u001b[0;34m,\u001b[0m \u001b[0moptimize_ga\u001b[0m\u001b[0;34m(\u001b[0m\u001b[0mflip_flop\u001b[0m\u001b[0;34m)\u001b[0m\u001b[0;34m)\u001b[0m\u001b[0;34m\u001b[0m\u001b[0;34m\u001b[0m\u001b[0m\n\u001b[0;32m----> 9\u001b[0;31m \u001b[0mprint\u001b[0m\u001b[0;34m(\u001b[0m\u001b[0;34m'MIMIC: '\u001b[0m\u001b[0;34m,\u001b[0m \u001b[0moptimize_mimic\u001b[0m\u001b[0;34m(\u001b[0m\u001b[0mflip_flop\u001b[0m\u001b[0;34m)\u001b[0m\u001b[0;34m)\u001b[0m\u001b[0;34m\u001b[0m\u001b[0;34m\u001b[0m\u001b[0m\n\u001b[0m",
      "\u001b[0;32m<ipython-input-239-ebc17651384b>\u001b[0m in \u001b[0;36moptimize_mimic\u001b[0;34m(problem)\u001b[0m\n\u001b[1;32m     74\u001b[0m                                                                 \u001b[0mmax_iters\u001b[0m\u001b[0;34m=\u001b[0m\u001b[0;36m250\u001b[0m\u001b[0;34m,\u001b[0m\u001b[0;34m\u001b[0m\u001b[0;34m\u001b[0m\u001b[0m\n\u001b[1;32m     75\u001b[0m                                                                 \u001b[0mpop_size\u001b[0m\u001b[0;34m=\u001b[0m\u001b[0me\u001b[0m\u001b[0;34m[\u001b[0m\u001b[0;34m'pop_size'\u001b[0m\u001b[0;34m]\u001b[0m\u001b[0;34m,\u001b[0m\u001b[0;34m\u001b[0m\u001b[0;34m\u001b[0m\u001b[0m\n\u001b[0;32m---> 76\u001b[0;31m                                                                 keep_pct=e['keep_pct'])\n\u001b[0m\u001b[1;32m     77\u001b[0m \u001b[0;34m\u001b[0m\u001b[0m\n\u001b[1;32m     78\u001b[0m         \u001b[0;32mif\u001b[0m \u001b[0mbest_fitness_mi\u001b[0m \u001b[0;34m>\u001b[0m \u001b[0mbest_score\u001b[0m\u001b[0;34m:\u001b[0m\u001b[0;34m\u001b[0m\u001b[0;34m\u001b[0m\u001b[0m\n",
      "\u001b[0;32m<ipython-input-196-003523a5d67a>\u001b[0m in \u001b[0;36mmimic\u001b[0;34m(problem, pop_size, keep_pct, max_attempts, max_iters)\u001b[0m\n\u001b[1;32m     38\u001b[0m \u001b[0;34m\u001b[0m\u001b[0m\n\u001b[1;32m     39\u001b[0m         \u001b[0;31m# Update probability estimates\u001b[0m\u001b[0;34m\u001b[0m\u001b[0;34m\u001b[0m\u001b[0;34m\u001b[0m\u001b[0m\n\u001b[0;32m---> 40\u001b[0;31m         \u001b[0mproblem\u001b[0m\u001b[0;34m.\u001b[0m\u001b[0meval_node_probs\u001b[0m\u001b[0;34m(\u001b[0m\u001b[0;34m)\u001b[0m\u001b[0;34m\u001b[0m\u001b[0;34m\u001b[0m\u001b[0m\n\u001b[0m\u001b[1;32m     41\u001b[0m \u001b[0;34m\u001b[0m\u001b[0m\n\u001b[1;32m     42\u001b[0m         \u001b[0;31m# Generate new sample\u001b[0m\u001b[0;34m\u001b[0m\u001b[0;34m\u001b[0m\u001b[0;34m\u001b[0m\u001b[0m\n",
      "\u001b[0;32m/anaconda3/envs/cs4641/lib/python3.7/site-packages/mlrose/opt_probs.py\u001b[0m in \u001b[0;36meval_node_probs\u001b[0;34m(self)\u001b[0m\n\u001b[1;32m    282\u001b[0m                 mutual_info[i, j] = -1 * mutual_info_score(\n\u001b[1;32m    283\u001b[0m                     \u001b[0mself\u001b[0m\u001b[0;34m.\u001b[0m\u001b[0mkeep_sample\u001b[0m\u001b[0;34m[\u001b[0m\u001b[0;34m:\u001b[0m\u001b[0;34m,\u001b[0m \u001b[0mi\u001b[0m\u001b[0;34m]\u001b[0m\u001b[0;34m,\u001b[0m\u001b[0;34m\u001b[0m\u001b[0;34m\u001b[0m\u001b[0m\n\u001b[0;32m--> 284\u001b[0;31m                     self.keep_sample[:, j])\n\u001b[0m\u001b[1;32m    285\u001b[0m \u001b[0;34m\u001b[0m\u001b[0m\n\u001b[1;32m    286\u001b[0m         \u001b[0;31m# Find minimum spanning tree of mutual info matrix\u001b[0m\u001b[0;34m\u001b[0m\u001b[0;34m\u001b[0m\u001b[0;34m\u001b[0m\u001b[0m\n",
      "\u001b[0;32m/anaconda3/envs/cs4641/lib/python3.7/site-packages/sklearn/metrics/cluster/supervised.py\u001b[0m in \u001b[0;36mmutual_info_score\u001b[0;34m(labels_true, labels_pred, contingency)\u001b[0m\n\u001b[1;32m    610\u001b[0m     \u001b[0;32mif\u001b[0m \u001b[0mcontingency\u001b[0m \u001b[0;32mis\u001b[0m \u001b[0;32mNone\u001b[0m\u001b[0;34m:\u001b[0m\u001b[0;34m\u001b[0m\u001b[0;34m\u001b[0m\u001b[0m\n\u001b[1;32m    611\u001b[0m         \u001b[0mlabels_true\u001b[0m\u001b[0;34m,\u001b[0m \u001b[0mlabels_pred\u001b[0m \u001b[0;34m=\u001b[0m \u001b[0mcheck_clusterings\u001b[0m\u001b[0;34m(\u001b[0m\u001b[0mlabels_true\u001b[0m\u001b[0;34m,\u001b[0m \u001b[0mlabels_pred\u001b[0m\u001b[0;34m)\u001b[0m\u001b[0;34m\u001b[0m\u001b[0;34m\u001b[0m\u001b[0m\n\u001b[0;32m--> 612\u001b[0;31m         \u001b[0mcontingency\u001b[0m \u001b[0;34m=\u001b[0m \u001b[0mcontingency_matrix\u001b[0m\u001b[0;34m(\u001b[0m\u001b[0mlabels_true\u001b[0m\u001b[0;34m,\u001b[0m \u001b[0mlabels_pred\u001b[0m\u001b[0;34m,\u001b[0m \u001b[0msparse\u001b[0m\u001b[0;34m=\u001b[0m\u001b[0;32mTrue\u001b[0m\u001b[0;34m)\u001b[0m\u001b[0;34m\u001b[0m\u001b[0;34m\u001b[0m\u001b[0m\n\u001b[0m\u001b[1;32m    613\u001b[0m     \u001b[0;32melse\u001b[0m\u001b[0;34m:\u001b[0m\u001b[0;34m\u001b[0m\u001b[0;34m\u001b[0m\u001b[0m\n\u001b[1;32m    614\u001b[0m         contingency = check_array(contingency,\n",
      "\u001b[0;32m/anaconda3/envs/cs4641/lib/python3.7/site-packages/sklearn/metrics/cluster/supervised.py\u001b[0m in \u001b[0;36mcontingency_matrix\u001b[0;34m(labels_true, labels_pred, eps, sparse)\u001b[0m\n\u001b[1;32m    124\u001b[0m                                 dtype=np.int)\n\u001b[1;32m    125\u001b[0m     \u001b[0;32mif\u001b[0m \u001b[0msparse\u001b[0m\u001b[0;34m:\u001b[0m\u001b[0;34m\u001b[0m\u001b[0;34m\u001b[0m\u001b[0m\n\u001b[0;32m--> 126\u001b[0;31m         \u001b[0mcontingency\u001b[0m \u001b[0;34m=\u001b[0m \u001b[0mcontingency\u001b[0m\u001b[0;34m.\u001b[0m\u001b[0mtocsr\u001b[0m\u001b[0;34m(\u001b[0m\u001b[0;34m)\u001b[0m\u001b[0;34m\u001b[0m\u001b[0;34m\u001b[0m\u001b[0m\n\u001b[0m\u001b[1;32m    127\u001b[0m         \u001b[0mcontingency\u001b[0m\u001b[0;34m.\u001b[0m\u001b[0msum_duplicates\u001b[0m\u001b[0;34m(\u001b[0m\u001b[0;34m)\u001b[0m\u001b[0;34m\u001b[0m\u001b[0;34m\u001b[0m\u001b[0m\n\u001b[1;32m    128\u001b[0m     \u001b[0;32melse\u001b[0m\u001b[0;34m:\u001b[0m\u001b[0;34m\u001b[0m\u001b[0;34m\u001b[0m\u001b[0m\n",
      "\u001b[0;32m/anaconda3/envs/cs4641/lib/python3.7/site-packages/scipy/sparse/coo.py\u001b[0m in \u001b[0;36mtocsr\u001b[0;34m(self, copy)\u001b[0m\n\u001b[1;32m    386\u001b[0m \u001b[0;34m\u001b[0m\u001b[0m\n\u001b[1;32m    387\u001b[0m         \"\"\"\n\u001b[0;32m--> 388\u001b[0;31m         \u001b[0;32mfrom\u001b[0m \u001b[0;34m.\u001b[0m\u001b[0mcsr\u001b[0m \u001b[0;32mimport\u001b[0m \u001b[0mcsr_matrix\u001b[0m\u001b[0;34m\u001b[0m\u001b[0;34m\u001b[0m\u001b[0m\n\u001b[0m\u001b[1;32m    389\u001b[0m         \u001b[0;32mif\u001b[0m \u001b[0mself\u001b[0m\u001b[0;34m.\u001b[0m\u001b[0mnnz\u001b[0m \u001b[0;34m==\u001b[0m \u001b[0;36m0\u001b[0m\u001b[0;34m:\u001b[0m\u001b[0;34m\u001b[0m\u001b[0;34m\u001b[0m\u001b[0m\n\u001b[1;32m    390\u001b[0m             \u001b[0;32mreturn\u001b[0m \u001b[0mcsr_matrix\u001b[0m\u001b[0;34m(\u001b[0m\u001b[0mself\u001b[0m\u001b[0;34m.\u001b[0m\u001b[0mshape\u001b[0m\u001b[0;34m,\u001b[0m \u001b[0mdtype\u001b[0m\u001b[0;34m=\u001b[0m\u001b[0mself\u001b[0m\u001b[0;34m.\u001b[0m\u001b[0mdtype\u001b[0m\u001b[0;34m)\u001b[0m\u001b[0;34m\u001b[0m\u001b[0;34m\u001b[0m\u001b[0m\n",
      "\u001b[0;32m/anaconda3/envs/cs4641/lib/python3.7/importlib/_bootstrap.py\u001b[0m in \u001b[0;36m_handle_fromlist\u001b[0;34m(module, fromlist, import_, recursive)\u001b[0m\n",
      "\u001b[0;31mKeyboardInterrupt\u001b[0m: "
     ]
    }
   ],
   "source": [
    "# Flip flop\n",
    "fitness = mlrose.FlipFlop()\n",
    "flip_flop = mlrose.DiscreteOpt(200, fitness_fn = fitness, maximize = True, max_val = 2)\n",
    "\n",
    "print('N-Queens')\n",
    "print('RHC: ', optimize_rhc(flip_flop))\n",
    "print('SA: ', optimize_sa(flip_flop))\n",
    "print('GA: ', optimize_ga(flip_flop))\n",
    "print('MIMIC: ', optimize_mimic(flip_flop))"
   ]
  },
  {
   "cell_type": "code",
   "execution_count": 245,
   "metadata": {},
   "outputs": [
    {
     "name": "stdout",
     "output_type": "stream",
     "text": [
      "Knapsack\n",
      "RHC:  (1129.0, {'restarts': 50})\n",
      "SA:  (1005.0, {'schedule': <mlrose.decay.ArithDecay object at 0x1290ee390>})\n"
     ]
    },
    {
     "name": "stderr",
     "output_type": "stream",
     "text": [
      "/anaconda3/envs/cs4641/lib/python3.7/site-packages/ipykernel_launcher.py:39: RuntimeWarning: overflow encountered in exp\n"
     ]
    },
    {
     "name": "stdout",
     "output_type": "stream",
     "text": [
      "GA:  (1178.0, {'pop_size': 100, 'mutation_prob': 0.01})\n"
     ]
    },
    {
     "ename": "KeyboardInterrupt",
     "evalue": "",
     "output_type": "error",
     "traceback": [
      "\u001b[0;31m---------------------------------------------------------------------------\u001b[0m",
      "\u001b[0;31mKeyboardInterrupt\u001b[0m                         Traceback (most recent call last)",
      "\u001b[0;32m<ipython-input-245-e82501718f8e>\u001b[0m in \u001b[0;36m<module>\u001b[0;34m\u001b[0m\n\u001b[1;32m     11\u001b[0m \u001b[0mprint\u001b[0m\u001b[0;34m(\u001b[0m\u001b[0;34m'SA: '\u001b[0m\u001b[0;34m,\u001b[0m \u001b[0moptimize_sa\u001b[0m\u001b[0;34m(\u001b[0m\u001b[0mknapsack\u001b[0m\u001b[0;34m)\u001b[0m\u001b[0;34m)\u001b[0m\u001b[0;34m\u001b[0m\u001b[0;34m\u001b[0m\u001b[0m\n\u001b[1;32m     12\u001b[0m \u001b[0mprint\u001b[0m\u001b[0;34m(\u001b[0m\u001b[0;34m'GA: '\u001b[0m\u001b[0;34m,\u001b[0m \u001b[0moptimize_ga\u001b[0m\u001b[0;34m(\u001b[0m\u001b[0mknapsack\u001b[0m\u001b[0;34m)\u001b[0m\u001b[0;34m)\u001b[0m\u001b[0;34m\u001b[0m\u001b[0;34m\u001b[0m\u001b[0m\n\u001b[0;32m---> 13\u001b[0;31m \u001b[0mprint\u001b[0m\u001b[0;34m(\u001b[0m\u001b[0;34m'MIMIC: '\u001b[0m\u001b[0;34m,\u001b[0m \u001b[0moptimize_mimic\u001b[0m\u001b[0;34m(\u001b[0m\u001b[0mknapsack\u001b[0m\u001b[0;34m)\u001b[0m\u001b[0;34m)\u001b[0m\u001b[0;34m\u001b[0m\u001b[0;34m\u001b[0m\u001b[0m\n\u001b[0m",
      "\u001b[0;32m<ipython-input-239-ebc17651384b>\u001b[0m in \u001b[0;36moptimize_mimic\u001b[0;34m(problem)\u001b[0m\n\u001b[1;32m     74\u001b[0m                                                                 \u001b[0mmax_iters\u001b[0m\u001b[0;34m=\u001b[0m\u001b[0;36m250\u001b[0m\u001b[0;34m,\u001b[0m\u001b[0;34m\u001b[0m\u001b[0;34m\u001b[0m\u001b[0m\n\u001b[1;32m     75\u001b[0m                                                                 \u001b[0mpop_size\u001b[0m\u001b[0;34m=\u001b[0m\u001b[0me\u001b[0m\u001b[0;34m[\u001b[0m\u001b[0;34m'pop_size'\u001b[0m\u001b[0;34m]\u001b[0m\u001b[0;34m,\u001b[0m\u001b[0;34m\u001b[0m\u001b[0;34m\u001b[0m\u001b[0m\n\u001b[0;32m---> 76\u001b[0;31m                                                                 keep_pct=e['keep_pct'])\n\u001b[0m\u001b[1;32m     77\u001b[0m \u001b[0;34m\u001b[0m\u001b[0m\n\u001b[1;32m     78\u001b[0m         \u001b[0;32mif\u001b[0m \u001b[0mbest_fitness_mi\u001b[0m \u001b[0;34m>\u001b[0m \u001b[0mbest_score\u001b[0m\u001b[0;34m:\u001b[0m\u001b[0;34m\u001b[0m\u001b[0;34m\u001b[0m\u001b[0m\n",
      "\u001b[0;32m<ipython-input-196-003523a5d67a>\u001b[0m in \u001b[0;36mmimic\u001b[0;34m(problem, pop_size, keep_pct, max_attempts, max_iters)\u001b[0m\n\u001b[1;32m     38\u001b[0m \u001b[0;34m\u001b[0m\u001b[0m\n\u001b[1;32m     39\u001b[0m         \u001b[0;31m# Update probability estimates\u001b[0m\u001b[0;34m\u001b[0m\u001b[0;34m\u001b[0m\u001b[0;34m\u001b[0m\u001b[0m\n\u001b[0;32m---> 40\u001b[0;31m         \u001b[0mproblem\u001b[0m\u001b[0;34m.\u001b[0m\u001b[0meval_node_probs\u001b[0m\u001b[0;34m(\u001b[0m\u001b[0;34m)\u001b[0m\u001b[0;34m\u001b[0m\u001b[0;34m\u001b[0m\u001b[0m\n\u001b[0m\u001b[1;32m     41\u001b[0m \u001b[0;34m\u001b[0m\u001b[0m\n\u001b[1;32m     42\u001b[0m         \u001b[0;31m# Generate new sample\u001b[0m\u001b[0;34m\u001b[0m\u001b[0;34m\u001b[0m\u001b[0;34m\u001b[0m\u001b[0m\n",
      "\u001b[0;32m/anaconda3/envs/cs4641/lib/python3.7/site-packages/mlrose/opt_probs.py\u001b[0m in \u001b[0;36meval_node_probs\u001b[0;34m(self)\u001b[0m\n\u001b[1;32m    282\u001b[0m                 mutual_info[i, j] = -1 * mutual_info_score(\n\u001b[1;32m    283\u001b[0m                     \u001b[0mself\u001b[0m\u001b[0;34m.\u001b[0m\u001b[0mkeep_sample\u001b[0m\u001b[0;34m[\u001b[0m\u001b[0;34m:\u001b[0m\u001b[0;34m,\u001b[0m \u001b[0mi\u001b[0m\u001b[0;34m]\u001b[0m\u001b[0;34m,\u001b[0m\u001b[0;34m\u001b[0m\u001b[0;34m\u001b[0m\u001b[0m\n\u001b[0;32m--> 284\u001b[0;31m                     self.keep_sample[:, j])\n\u001b[0m\u001b[1;32m    285\u001b[0m \u001b[0;34m\u001b[0m\u001b[0m\n\u001b[1;32m    286\u001b[0m         \u001b[0;31m# Find minimum spanning tree of mutual info matrix\u001b[0m\u001b[0;34m\u001b[0m\u001b[0;34m\u001b[0m\u001b[0;34m\u001b[0m\u001b[0m\n",
      "\u001b[0;32m/anaconda3/envs/cs4641/lib/python3.7/site-packages/sklearn/metrics/cluster/supervised.py\u001b[0m in \u001b[0;36mmutual_info_score\u001b[0;34m(labels_true, labels_pred, contingency)\u001b[0m\n\u001b[1;32m    629\u001b[0m     \u001b[0mcontingency_sum\u001b[0m \u001b[0;34m=\u001b[0m \u001b[0mcontingency\u001b[0m\u001b[0;34m.\u001b[0m\u001b[0msum\u001b[0m\u001b[0;34m(\u001b[0m\u001b[0;34m)\u001b[0m\u001b[0;34m\u001b[0m\u001b[0;34m\u001b[0m\u001b[0m\n\u001b[1;32m    630\u001b[0m     \u001b[0mpi\u001b[0m \u001b[0;34m=\u001b[0m \u001b[0mnp\u001b[0m\u001b[0;34m.\u001b[0m\u001b[0mravel\u001b[0m\u001b[0;34m(\u001b[0m\u001b[0mcontingency\u001b[0m\u001b[0;34m.\u001b[0m\u001b[0msum\u001b[0m\u001b[0;34m(\u001b[0m\u001b[0maxis\u001b[0m\u001b[0;34m=\u001b[0m\u001b[0;36m1\u001b[0m\u001b[0;34m)\u001b[0m\u001b[0;34m)\u001b[0m\u001b[0;34m\u001b[0m\u001b[0;34m\u001b[0m\u001b[0m\n\u001b[0;32m--> 631\u001b[0;31m     \u001b[0mpj\u001b[0m \u001b[0;34m=\u001b[0m \u001b[0mnp\u001b[0m\u001b[0;34m.\u001b[0m\u001b[0mravel\u001b[0m\u001b[0;34m(\u001b[0m\u001b[0mcontingency\u001b[0m\u001b[0;34m.\u001b[0m\u001b[0msum\u001b[0m\u001b[0;34m(\u001b[0m\u001b[0maxis\u001b[0m\u001b[0;34m=\u001b[0m\u001b[0;36m0\u001b[0m\u001b[0;34m)\u001b[0m\u001b[0;34m)\u001b[0m\u001b[0;34m\u001b[0m\u001b[0;34m\u001b[0m\u001b[0m\n\u001b[0m\u001b[1;32m    632\u001b[0m     \u001b[0mlog_contingency_nm\u001b[0m \u001b[0;34m=\u001b[0m \u001b[0mnp\u001b[0m\u001b[0;34m.\u001b[0m\u001b[0mlog\u001b[0m\u001b[0;34m(\u001b[0m\u001b[0mnz_val\u001b[0m\u001b[0;34m)\u001b[0m\u001b[0;34m\u001b[0m\u001b[0;34m\u001b[0m\u001b[0m\n\u001b[1;32m    633\u001b[0m     \u001b[0mcontingency_nm\u001b[0m \u001b[0;34m=\u001b[0m \u001b[0mnz_val\u001b[0m \u001b[0;34m/\u001b[0m \u001b[0mcontingency_sum\u001b[0m\u001b[0;34m\u001b[0m\u001b[0;34m\u001b[0m\u001b[0m\n",
      "\u001b[0;32m/anaconda3/envs/cs4641/lib/python3.7/site-packages/scipy/sparse/compressed.py\u001b[0m in \u001b[0;36msum\u001b[0;34m(self, axis, dtype, out)\u001b[0m\n\u001b[1;32m    604\u001b[0m         \u001b[0;31m# is in {None, -1, 0, 1}\u001b[0m\u001b[0;34m\u001b[0m\u001b[0;34m\u001b[0m\u001b[0;34m\u001b[0m\u001b[0m\n\u001b[1;32m    605\u001b[0m         \u001b[0;32melse\u001b[0m\u001b[0;34m:\u001b[0m\u001b[0;34m\u001b[0m\u001b[0;34m\u001b[0m\u001b[0m\n\u001b[0;32m--> 606\u001b[0;31m             \u001b[0;32mreturn\u001b[0m \u001b[0mspmatrix\u001b[0m\u001b[0;34m.\u001b[0m\u001b[0msum\u001b[0m\u001b[0;34m(\u001b[0m\u001b[0mself\u001b[0m\u001b[0;34m,\u001b[0m \u001b[0maxis\u001b[0m\u001b[0;34m=\u001b[0m\u001b[0maxis\u001b[0m\u001b[0;34m,\u001b[0m \u001b[0mdtype\u001b[0m\u001b[0;34m=\u001b[0m\u001b[0mdtype\u001b[0m\u001b[0;34m,\u001b[0m \u001b[0mout\u001b[0m\u001b[0;34m=\u001b[0m\u001b[0mout\u001b[0m\u001b[0;34m)\u001b[0m\u001b[0;34m\u001b[0m\u001b[0;34m\u001b[0m\u001b[0m\n\u001b[0m\u001b[1;32m    607\u001b[0m \u001b[0;34m\u001b[0m\u001b[0m\n\u001b[1;32m    608\u001b[0m     \u001b[0msum\u001b[0m\u001b[0;34m.\u001b[0m\u001b[0m__doc__\u001b[0m \u001b[0;34m=\u001b[0m \u001b[0mspmatrix\u001b[0m\u001b[0;34m.\u001b[0m\u001b[0msum\u001b[0m\u001b[0;34m.\u001b[0m\u001b[0m__doc__\u001b[0m\u001b[0;34m\u001b[0m\u001b[0;34m\u001b[0m\u001b[0m\n",
      "\u001b[0;32m/anaconda3/envs/cs4641/lib/python3.7/site-packages/scipy/sparse/base.py\u001b[0m in \u001b[0;36msum\u001b[0;34m(self, axis, dtype, out)\u001b[0m\n\u001b[1;32m   1012\u001b[0m             \u001b[0;31m# sum over columns\u001b[0m\u001b[0;34m\u001b[0m\u001b[0;34m\u001b[0m\u001b[0;34m\u001b[0m\u001b[0m\n\u001b[1;32m   1013\u001b[0m             ret = np.asmatrix(np.ones(\n\u001b[0;32m-> 1014\u001b[0;31m                 (1, m), dtype=res_dtype)) * self\n\u001b[0m\u001b[1;32m   1015\u001b[0m         \u001b[0;32melse\u001b[0m\u001b[0;34m:\u001b[0m\u001b[0;34m\u001b[0m\u001b[0;34m\u001b[0m\u001b[0m\n\u001b[1;32m   1016\u001b[0m             \u001b[0;31m# sum over rows\u001b[0m\u001b[0;34m\u001b[0m\u001b[0;34m\u001b[0m\u001b[0;34m\u001b[0m\u001b[0m\n",
      "\u001b[0;32m/anaconda3/envs/cs4641/lib/python3.7/site-packages/scipy/sparse/base.py\u001b[0m in \u001b[0;36m__rmul__\u001b[0;34m(self, other)\u001b[0m\n\u001b[1;32m    542\u001b[0m \u001b[0;34m\u001b[0m\u001b[0m\n\u001b[1;32m    543\u001b[0m     \u001b[0;32mdef\u001b[0m \u001b[0m__rmul__\u001b[0m\u001b[0;34m(\u001b[0m\u001b[0mself\u001b[0m\u001b[0;34m,\u001b[0m \u001b[0mother\u001b[0m\u001b[0;34m)\u001b[0m\u001b[0;34m:\u001b[0m  \u001b[0;31m# other * self\u001b[0m\u001b[0;34m\u001b[0m\u001b[0;34m\u001b[0m\u001b[0m\n\u001b[0;32m--> 544\u001b[0;31m         \u001b[0;32mif\u001b[0m \u001b[0misscalarlike\u001b[0m\u001b[0;34m(\u001b[0m\u001b[0mother\u001b[0m\u001b[0;34m)\u001b[0m\u001b[0;34m:\u001b[0m\u001b[0;34m\u001b[0m\u001b[0;34m\u001b[0m\u001b[0m\n\u001b[0m\u001b[1;32m    545\u001b[0m             \u001b[0;32mreturn\u001b[0m \u001b[0mself\u001b[0m\u001b[0;34m.\u001b[0m\u001b[0m__mul__\u001b[0m\u001b[0;34m(\u001b[0m\u001b[0mother\u001b[0m\u001b[0;34m)\u001b[0m\u001b[0;34m\u001b[0m\u001b[0;34m\u001b[0m\u001b[0m\n\u001b[1;32m    546\u001b[0m         \u001b[0;32melse\u001b[0m\u001b[0;34m:\u001b[0m\u001b[0;34m\u001b[0m\u001b[0;34m\u001b[0m\u001b[0m\n",
      "\u001b[0;32m/anaconda3/envs/cs4641/lib/python3.7/site-packages/scipy/sparse/sputils.py\u001b[0m in \u001b[0;36misscalarlike\u001b[0;34m(x)\u001b[0m\n\u001b[1;32m    180\u001b[0m \u001b[0;34m\u001b[0m\u001b[0m\n\u001b[1;32m    181\u001b[0m \u001b[0;34m\u001b[0m\u001b[0m\n\u001b[0;32m--> 182\u001b[0;31m \u001b[0;32mdef\u001b[0m \u001b[0misscalarlike\u001b[0m\u001b[0;34m(\u001b[0m\u001b[0mx\u001b[0m\u001b[0;34m)\u001b[0m\u001b[0;34m:\u001b[0m\u001b[0;34m\u001b[0m\u001b[0;34m\u001b[0m\u001b[0m\n\u001b[0m\u001b[1;32m    183\u001b[0m     \u001b[0;34m\"\"\"Is x either a scalar, an array scalar, or a 0-dim array?\"\"\"\u001b[0m\u001b[0;34m\u001b[0m\u001b[0;34m\u001b[0m\u001b[0m\n\u001b[1;32m    184\u001b[0m     \u001b[0;32mreturn\u001b[0m \u001b[0mnp\u001b[0m\u001b[0;34m.\u001b[0m\u001b[0misscalar\u001b[0m\u001b[0;34m(\u001b[0m\u001b[0mx\u001b[0m\u001b[0;34m)\u001b[0m \u001b[0;32mor\u001b[0m \u001b[0;34m(\u001b[0m\u001b[0misdense\u001b[0m\u001b[0;34m(\u001b[0m\u001b[0mx\u001b[0m\u001b[0;34m)\u001b[0m \u001b[0;32mand\u001b[0m \u001b[0mx\u001b[0m\u001b[0;34m.\u001b[0m\u001b[0mndim\u001b[0m \u001b[0;34m==\u001b[0m \u001b[0;36m0\u001b[0m\u001b[0;34m)\u001b[0m\u001b[0;34m\u001b[0m\u001b[0;34m\u001b[0m\u001b[0m\n",
      "\u001b[0;31mKeyboardInterrupt\u001b[0m: "
     ]
    }
   ],
   "source": [
    "# Knapsack\n",
    "weights = [random.randint(1, 60) for i in range(50)]\n",
    "values = [random.randint(1, 60) for i in range(50)]\n",
    "max_weight_pct = 0.6\n",
    "fitness = mlrose.Knapsack(weights, values, max_weight_pct)\n",
    "knapsack = mlrose.DiscreteOpt(50, fitness_fn = fitness, maximize = True, max_val = 2)\n",
    "knapsack_ga = mlrose.DiscreteOpt(50, fitness_fn=fitness, maximize=True, max_val=3)\n",
    "\n",
    "print('Knapsack')\n",
    "print('RHC: ', optimize_rhc(knapsack))\n",
    "print('SA: ', optimize_sa(knapsack))\n",
    "print('GA: ', optimize_ga(knapsack))\n",
    "print('MIMIC: ', optimize_mimic(knapsack))"
   ]
  },
  {
   "cell_type": "code",
   "execution_count": 287,
   "metadata": {},
   "outputs": [],
   "source": [
    "def graph_nqueens_fitness_iterations():\n",
    "    fitness_cust = mlrose.CustomFitness(queens_max)\n",
    "    nqueens = mlrose.DiscreteOpt(length = 120, fitness_fn = fitness_cust, maximize = True, max_val = 2)\n",
    "\n",
    "    best_state_rhc, best_fitness_rhc, fitness_curve_rhc = random_hill_climb(nqueens, max_attempts=10,\n",
    "                                                                max_iters=250,\n",
    "                                                               restarts=10, curve=True)\n",
    "\n",
    "    best_state_sa, best_fitness_sa, fitness_curve_sa = simulated_annealing(nqueens, schedule = mlrose.ExpDecay(), \n",
    "                                                  max_attempts = 10, max_iters = 250)\n",
    "\n",
    "    best_state_ga, best_fitness_ga, fitness_curve_ga = genetic_alg(nqueens, max_attempts=10,\n",
    "                                                                max_iters=250,\n",
    "                                                               pop_size=100, mutation_prob=0.25)\n",
    "\n",
    "    best_state_mi, best_fitness_mi, fitness_curve_mi = mimic(nqueens, max_attempts=10,\n",
    "                                                                max_iters=250,\n",
    "                                                               pop_size=250, keep_pct=0.25)\n",
    "\n",
    "\n",
    "    # Plot results\n",
    "    plt.clf()\n",
    "    plt.figure()\n",
    "    plt.title('Fitness over Iterations')\n",
    "    plt.plot([f[0] for f in fitness_curve_rhc], [f[1] for f in fitness_curve_rhc])\n",
    "    plt.xlabel('Iterations')\n",
    "    plt.ylabel('Fitness')\n",
    "    plt.show()\n",
    "    plt.close()\n",
    "    \n",
    "    plt.figure()\n",
    "    plt.title('Fitness over Iterations')\n",
    "    plt.plot([f[0] for f in fitness_curve_sa], [f[1] for f in fitness_curve_sa])\n",
    "    plt.xlabel('Iterations')\n",
    "    plt.ylabel('Fitness')\n",
    "    plt.show()\n",
    "    plt.close()\n",
    "    \n",
    "    plt.figure()\n",
    "    plt.title('Fitness over Iterations')\n",
    "    plt.plot([f[0] for f in fitness_curve_ga], [f[1] for f in fitness_curve_ga])\n",
    "    plt.xlabel('Iterations')\n",
    "    plt.ylabel('Fitness')\n",
    "    plt.show()\n",
    "    plt.close()\n",
    "    \n",
    "    plt.figure()\n",
    "    plt.title('Fitness over Iterations')\n",
    "    plt.plot([f[0] for f in fitness_curve_mi], [f[1] for f in fitness_curve_mi])\n",
    "    plt.xlabel('Iterations')\n",
    "    plt.ylabel('Fitness')\n",
    "    plt.show()\n",
    "    plt.close()"
   ]
  },
  {
   "cell_type": "code",
   "execution_count": 288,
   "metadata": {},
   "outputs": [
    {
     "data": {
      "text/plain": [
       "<Figure size 432x288 with 0 Axes>"
      ]
     },
     "metadata": {},
     "output_type": "display_data"
    },
    {
     "data": {
      "image/png": "[encoded data removed]",
      "text/plain": [
       "<Figure size 432x288 with 1 Axes>"
      ]
     },
     "metadata": {
      "needs_background": "light"
     },
     "output_type": "display_data"
    },
    {
     "data": {
      "image/png": "[encoded data removed]",
      "text/plain": [
       "<Figure size 432x288 with 1 Axes>"
      ]
     },
     "metadata": {
      "needs_background": "light"
     },
     "output_type": "display_data"
    },
    {
     "data": {
      "image/png": "[encoded data removed]",
      "text/plain": [
       "<Figure size 432x288 with 1 Axes>"
      ]
     },
     "metadata": {
      "needs_background": "light"
     },
     "output_type": "display_data"
    },
    {
     "data": {
      "image/png": "[encoded data removed]",
      "text/plain": [
       "<Figure size 432x288 with 1 Axes>"
      ]
     },
     "metadata": {
      "needs_background": "light"
     },
     "output_type": "display_data"
    }
   ],
   "source": [
    "graph_nqueens_fitness_iterations()"
   ]
  },
  {
   "cell_type": "code",
   "execution_count": 295,
   "metadata": {},
   "outputs": [],
   "source": [
    "def graph_flipflop_fitness_iterations():\n",
    "    fitness = mlrose.FlipFlop()\n",
    "    flip_flop = mlrose.DiscreteOpt(200, fitness_fn = fitness, maximize = True, max_val = 3)\n",
    "\n",
    "    best_state_rhc, best_fitness_rhc, fitness_curve_rhc = random_hill_climb(flip_flop, max_attempts=10,\n",
    "                                                                max_iters=250,\n",
    "                                                               restarts=10, curve=True)\n",
    "\n",
    "    best_state_sa, best_fitness_sa, fitness_curve_sa = simulated_annealing(flip_flop, schedule = mlrose.GeomDecay(), \n",
    "                                                  max_attempts = 10, max_iters = 250)\n",
    "\n",
    "    best_state_ga, best_fitness_ga, fitness_curve_ga = genetic_alg(flip_flop, max_attempts=10,\n",
    "                                                                max_iters=250,\n",
    "                                                               pop_size=100, mutation_prob=0.01)\n",
    "\n",
    "    best_state_mi, best_fitness_mi, fitness_curve_mi = mimic(flip_flop, max_attempts=10,\n",
    "                                                                max_iters=250,\n",
    "                                                               pop_size=150, keep_pct=0.1)\n",
    "\n",
    "\n",
    "    # Plot results\n",
    "    plt.clf()\n",
    "    plt.figure()\n",
    "    plt.title('Fitness over Iterations')\n",
    "    plt.plot([f[0] for f in fitness_curve_rhc], [f[1] for f in fitness_curve_rhc])\n",
    "    plt.xlabel('Iterations')\n",
    "    plt.ylabel('Fitness')\n",
    "    plt.show()\n",
    "    plt.close()\n",
    "    \n",
    "    plt.figure()\n",
    "    plt.title('Fitness over Iterations')\n",
    "    plt.plot([f[0] for f in fitness_curve_sa], [f[1] for f in fitness_curve_sa])\n",
    "    plt.xlabel('Iterations')\n",
    "    plt.ylabel('Fitness')\n",
    "    plt.show()\n",
    "    plt.close()\n",
    "    \n",
    "    plt.figure()\n",
    "    plt.title('Fitness over Iterations')\n",
    "    plt.plot([f[0] for f in fitness_curve_ga], [f[1] for f in fitness_curve_ga])\n",
    "    plt.xlabel('Iterations')\n",
    "    plt.ylabel('Fitness')\n",
    "    plt.show()\n",
    "    plt.close()\n",
    "    \n",
    "    plt.figure()\n",
    "    plt.title('Fitness over Iterations')\n",
    "    plt.plot([f[0] for f in fitness_curve_mi], [f[1] for f in fitness_curve_mi])\n",
    "    plt.xlabel('Iterations')\n",
    "    plt.ylabel('Fitness')\n",
    "    plt.show()\n",
    "    plt.close()"
   ]
  },
  {
   "cell_type": "code",
   "execution_count": 296,
   "metadata": {},
   "outputs": [
    {
     "data": {
      "image/png": "[encoded data removed]",
      "text/plain": [
       "<Figure size 432x288 with 1 Axes>"
      ]
     },
     "metadata": {
      "needs_background": "light"
     },
     "output_type": "display_data"
    }
   ],
   "source": [
    "graph_flipflop_fitness_iterations()"
   ]
  },
  {
   "cell_type": "code",
   "execution_count": 276,
   "metadata": {},
   "outputs": [],
   "source": [
    "def graph_knapsack_fitness_iterations():\n",
    "    weights = [random.randint(1, 60) for i in range(50)]\n",
    "    values = [random.randint(1, 60) for i in range(50)]\n",
    "    max_weight_pct = 0.6\n",
    "    fitness = mlrose.Knapsack(weights, values, max_weight_pct)\n",
    "    knapsack = mlrose.DiscreteOpt(50, fitness_fn = fitness, maximize = True, max_val = 2)\n",
    "\n",
    "    best_state_rhc, best_fitness_rhc, fitness_curve_rhc = random_hill_climb(knapsack, max_attempts=10,\n",
    "                                                                max_iters=250,\n",
    "                                                               restarts=10, curve=True)\n",
    "\n",
    "    best_state_sa, best_fitness_sa, fitness_curve_sa = simulated_annealing(knapsack, schedule = mlrose.ArithDecay(), \n",
    "                                                  max_attempts = 10, max_iters = 250)\n",
    "\n",
    "    best_state_ga, best_fitness_ga, fitness_curve_ga = genetic_alg(knapsack, max_attempts=10,\n",
    "                                                                max_iters=250,\n",
    "                                                               pop_size=100, mutation_prob=0.01)\n",
    "\n",
    "    best_state_mi, best_fitness_mi, fitness_curve_mi = mimic(knapsack, max_attempts=10,\n",
    "                                                                max_iters=250,\n",
    "                                                               pop_size=50, keep_pct=0.1)\n",
    "\n",
    "\n",
    "    # Plot results\n",
    "    plt.clf()\n",
    "    plt.figure()\n",
    "    plt.title('Fitness over Iterations')\n",
    "    plt.plot([f[0] for f in fitness_curve_rhc], [f[1] for f in fitness_curve_rhc])\n",
    "    plt.xlabel('Iterations')\n",
    "    plt.ylabel('Fitness')\n",
    "    plt.show()\n",
    "    plt.close()\n",
    "    \n",
    "    plt.figure()\n",
    "    plt.title('Fitness over Iterations')\n",
    "    plt.plot([f[0] for f in fitness_curve_sa], [f[1] for f in fitness_curve_sa])\n",
    "    plt.xlabel('Iterations')\n",
    "    plt.ylabel('Fitness')\n",
    "    plt.show()\n",
    "    plt.close()\n",
    "    \n",
    "    plt.figure()\n",
    "    plt.title('Fitness over Iterations')\n",
    "    plt.plot([f[0] for f in fitness_curve_ga], [f[1] for f in fitness_curve_ga])\n",
    "    plt.xlabel('Iterations')\n",
    "    plt.ylabel('Fitness')\n",
    "    plt.show()\n",
    "    plt.close()\n",
    "    \n",
    "    plt.figure()\n",
    "    plt.title('Fitness over Iterations')\n",
    "    plt.plot([f[0] for f in fitness_curve_mi], [f[1] for f in fitness_curve_mi])\n",
    "    plt.xlabel('Iterations')\n",
    "    plt.ylabel('Fitness')\n",
    "    plt.show()\n",
    "    plt.close()"
   ]
  },
  {
   "cell_type": "code",
   "execution_count": 277,
   "metadata": {},
   "outputs": [
    {
     "data": {
      "text/plain": [
       "<Figure size 432x288 with 0 Axes>"
      ]
     },
     "metadata": {},
     "output_type": "display_data"
    },
    {
     "data": {
      "image/png": "[encoded data removed]",
      "text/plain": [
       "<Figure size 432x288 with 1 Axes>"
      ]
     },
     "metadata": {
      "needs_background": "light"
     },
     "output_type": "display_data"
    },
    {
     "data": {
      "image/png": "[encoded data removed]",
      "text/plain": [
       "<Figure size 432x288 with 1 Axes>"
      ]
     },
     "metadata": {
      "needs_background": "light"
     },
     "output_type": "display_data"
    },
    {
     "data": {
      "image/png": "[encoded data removed]",
      "text/plain": [
       "<Figure size 432x288 with 1 Axes>"
      ]
     },
     "metadata": {
      "needs_background": "light"
     },
     "output_type": "display_data"
    },
    {
     "data": {
      "image/png": "[encoded data removed]",
      "text/plain": [
       "<Figure size 432x288 with 1 Axes>"
      ]
     },
     "metadata": {
      "needs_background": "light"
     },
     "output_type": "display_data"
    }
   ],
   "source": [
    "graph_knapsack_fitness_iterations()"
   ]
  },
  {
   "cell_type": "code",
   "execution_count": null,
   "metadata": {},
   "outputs": [],
   "source": []
  }
 ],
 "metadata": {
  "kernelspec": {
   "display_name": "Python [conda env:cs4641] *",
   "language": "python",
   "name": "conda-env-cs4641-py"
  },
  "language_info": {
   "codemirror_mode": {
    "name": "ipython",
    "version": 3
   },
   "file_extension": ".py",
   "mimetype": "text/x-python",
   "name": "python",
   "nbconvert_exporter": "python",
   "pygments_lexer": "ipython3",
   "version": "3.7.2"
  }
 },
 "nbformat": 4,
 "nbformat_minor": 2
}
